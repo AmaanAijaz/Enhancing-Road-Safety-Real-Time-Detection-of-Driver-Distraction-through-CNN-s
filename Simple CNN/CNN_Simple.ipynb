{
 "cells": [
  {
   "cell_type": "code",
   "execution_count": 22,
   "id": "37e14ec3-102e-4e6f-9575-553b99c6caaa",
   "metadata": {},
   "outputs": [],
   "source": [
    "import os\n",
    "import numpy as np\n",
    "import torch\n",
    "from torchvision import transforms, datasets\n",
    "from torch.utils.data import DataLoader, random_split\n",
    "import cv2\n",
    "from PIL import Image\n",
    "import secrets\n",
    "import torchvision.models as models\n",
    "import torch.nn as nn\n",
    "import torch.nn.functional as F\n",
    "from torchsummary import summary\n",
    "import torch.optim as optim\n",
    "from datetime import datetime\n",
    "from tqdm import tqdm\n",
    "import matplotlib.pyplot as plt"
   ]
  },
  {
   "cell_type": "code",
   "execution_count": 2,
   "id": "b50b951c-7cd0-44be-a536-9927d57be536",
   "metadata": {},
   "outputs": [
    {
     "name": "stdout",
     "output_type": "stream",
     "text": [
      "Collecting torchsummary\n",
      "  Downloading torchsummary-1.5.1-py3-none-any.whl.metadata (296 bytes)\n",
      "Downloading torchsummary-1.5.1-py3-none-any.whl (2.8 kB)\n",
      "Installing collected packages: torchsummary\n",
      "Successfully installed torchsummary-1.5.1\n"
     ]
    }
   ],
   "source": [
    "! pip install torchsummary"
   ]
  },
  {
   "cell_type": "code",
   "execution_count": 4,
   "id": "06dc6c56-af44-40e8-a592-f7634031c5d1",
   "metadata": {},
   "outputs": [
    {
     "name": "stdout",
     "output_type": "stream",
     "text": [
      "Requirement already satisfied: opencv-python in c:\\users\\kimaa\\appdata\\local\\packages\\pythonsoftwarefoundation.python.3.9_qbz5n2kfra8p0\\localcache\\local-packages\\python39\\site-packages (4.9.0.80)\n",
      "Requirement already satisfied: numpy>=1.17.0 in c:\\users\\kimaa\\appdata\\local\\packages\\pythonsoftwarefoundation.python.3.9_qbz5n2kfra8p0\\localcache\\local-packages\\python39\\site-packages (from opencv-python) (1.26.4)\n"
     ]
    }
   ],
   "source": [
    "! pip install opencv-python"
   ]
  },
  {
   "cell_type": "code",
   "execution_count": 5,
   "id": "9337d344-51de-416b-818d-08adea88e293",
   "metadata": {},
   "outputs": [
    {
     "name": "stdout",
     "output_type": "stream",
     "text": [
      "Data Directory: C:/Users/kimaa/OneDrive/Desktop\\imgs\\train\n",
      "Model Directory: C:/Users/kimaa/OneDrive/Desktop\\model\\simple_cnn\n"
     ]
    }
   ],
   "source": [
    "# Define paths for dataset and model\n",
    "base_path = \"C:/Users/kimaa/OneDrive/Desktop\"\n",
    "\n",
    "data_path = os.path.join(base_path, \"imgs\", \"train\")\n",
    "model_dir = os.path.join(base_path, \"model\", \"simple_cnn\")\n",
    "\n",
    "os.makedirs(model_dir, exist_ok=True)\n",
    "\n",
    "print(\"Data Directory:\", data_path)\n",
    "print(\"Model Directory:\", model_dir)\n"
   ]
  },
  {
   "cell_type": "code",
   "execution_count": 6,
   "id": "50092fd9-4158-4669-9820-682c69511c17",
   "metadata": {},
   "outputs": [
    {
     "name": "stdout",
     "output_type": "stream",
     "text": [
      "Directory exists. Contents: ['c0', 'c1', 'c2', 'c3', 'c4', 'c5', 'c6', 'c7', 'c8', 'c9']\n"
     ]
    }
   ],
   "source": [
    "if os.path.exists(data_path):\n",
    "    print(\"Directory exists. Contents:\", os.listdir(data_path))\n",
    "else:\n",
    "    print(\"Directory does not exist. Check the path.\")"
   ]
  },
  {
   "cell_type": "code",
   "execution_count": 7,
   "id": "d53ce960-d029-4e29-add5-820c6dda9775",
   "metadata": {},
   "outputs": [],
   "source": [
    "# Preprocessing functions for the images\n",
    "def enhance_brightness(img, value_increment):\n",
    "    hsv_img = cv2.cvtColor(np.array(img), cv2.COLOR_RGB2HSV)\n",
    "    h, s, v = cv2.split(hsv_img)\n",
    "    v = cv2.add(v, value_increment)\n",
    "    final_hsv = cv2.merge((h, s, v))\n",
    "    return Image.fromarray(cv2.cvtColor(final_hsv, cv2.COLOR_HSV2RGB))\n",
    "\n",
    "def change_contrast(img, level):\n",
    "    factor = (259 * (level + 255)) / (255 * (259 - level))\n",
    "    return img.point(lambda c: 128 + factor * (c - 128))\n",
    "\n",
    "class RandomContrastBrightnessTransform:\n",
    "    def __call__(self, img):\n",
    "        if secrets.randbelow(2) == 0:\n",
    "            img = enhance_brightness(img, secrets.randbelow(26))\n",
    "            img = change_contrast(img, secrets.randbelow(51))\n",
    "        else:\n",
    "            img = change_contrast(img, secrets.randbelow(51))\n",
    "            img = enhance_brightness(img, secrets.randbelow(26))\n",
    "        return img\n"
   ]
  },
  {
   "cell_type": "code",
   "execution_count": 8,
   "id": "6c9f88cc-efb3-4e67-be52-7965d7294bae",
   "metadata": {},
   "outputs": [],
   "source": [
    "# Image transformations\n",
    "transform = transforms.Compose([\n",
    "    transforms.RandomRotation(5),\n",
    "    transforms.RandomHorizontalFlip(),\n",
    "    transforms.RandomAffine(degrees=0, translate=(0.02, 0.02), shear=0.01, scale=(0.95, 1.05)),\n",
    "    RandomContrastBrightnessTransform(),\n",
    "    transforms.Resize((224, 224)),\n",
    "    transforms.ToTensor(),\n",
    "])\n"
   ]
  },
  {
   "cell_type": "code",
   "execution_count": 9,
   "id": "a039aed9-d52e-4bc7-8bfe-317f1bf31e51",
   "metadata": {},
   "outputs": [],
   "source": [
    "# Load the full dataset\n",
    "full_dataset = datasets.ImageFolder(root=data_path, transform=transform)"
   ]
  },
  {
   "cell_type": "code",
   "execution_count": 10,
   "id": "d5db8f82-b5d6-4d68-8235-52dfb2b32728",
   "metadata": {},
   "outputs": [],
   "source": [
    "# Split the dataset into training and validation sets\n",
    "total_size = len(full_dataset)\n",
    "train_size = int(0.8 * total_size)  # e.g., 80% for training\n",
    "test_size = total_size - train_size  # 20% for validation"
   ]
  },
  {
   "cell_type": "code",
   "execution_count": 11,
   "id": "d52f148c-8ee5-43ef-9b05-a75d5a1898b6",
   "metadata": {},
   "outputs": [],
   "source": [
    "train_dataset, test_dataset = random_split(full_dataset, [train_size, test_size])"
   ]
  },
  {
   "cell_type": "code",
   "execution_count": 12,
   "id": "e9591c30-9637-4503-a23d-52f5395e4213",
   "metadata": {},
   "outputs": [],
   "source": [
    "# Create DataLoaders for training and validation sets\n",
    "train_loader = DataLoader(train_dataset, batch_size=128, shuffle=True)\n",
    "test_loader = DataLoader(test_dataset, batch_size=128, shuffle=True)"
   ]
  },
  {
   "cell_type": "code",
   "execution_count": 13,
   "id": "1d4c2076-41ce-498c-aaad-06fdae0ca1a7",
   "metadata": {},
   "outputs": [
    {
     "name": "stdout",
     "output_type": "stream",
     "text": [
      "Shape of images in a batch: torch.Size([128, 3, 224, 224])\n"
     ]
    }
   ],
   "source": [
    "# Fetch one batch of data\n",
    "images, labels = next(iter(train_loader))\n",
    "\n",
    "# Print the shape of the images tensor\n",
    "print(\"Shape of images in a batch:\", images.shape)"
   ]
  },
  {
   "cell_type": "code",
   "execution_count": 14,
   "id": "ec438a15-74a2-4f65-8601-e291cbb685a0",
   "metadata": {},
   "outputs": [
    {
     "name": "stdout",
     "output_type": "stream",
     "text": [
      "SimpleCNN(\n",
      "  (conv1): Conv2d(3, 32, kernel_size=(3, 3), stride=(1, 1), padding=(1, 1))\n",
      "  (act1): ReLU()\n",
      "  (pool1): MaxPool2d(kernel_size=2, stride=2, padding=0, dilation=1, ceil_mode=False)\n",
      "  (conv2): Conv2d(32, 64, kernel_size=(3, 3), stride=(1, 1), padding=(1, 1))\n",
      "  (act2): ReLU()\n",
      "  (pool2): MaxPool2d(kernel_size=2, stride=2, padding=0, dilation=1, ceil_mode=False)\n",
      "  (conv3): Conv2d(64, 128, kernel_size=(3, 3), stride=(1, 1), padding=(1, 1))\n",
      "  (act3): ReLU()\n",
      "  (pool3): MaxPool2d(kernel_size=2, stride=2, padding=0, dilation=1, ceil_mode=False)\n",
      "  (fc1): Linear(in_features=100352, out_features=512, bias=True)\n",
      "  (fc2): Linear(in_features=512, out_features=10, bias=True)\n",
      ")\n"
     ]
    }
   ],
   "source": [
    "class SimpleCNN(nn.Module):\n",
    "    def __init__(self, num_classes=10):\n",
    "        super(SimpleCNN, self).__init__()\n",
    "        # First convolutional layer\n",
    "        self.conv1 = nn.Conv2d(in_channels=3, out_channels=32, kernel_size=3, padding=1)\n",
    "        self.act1 = nn.ReLU()\n",
    "        self.pool1 = nn.MaxPool2d(kernel_size=2, stride=2)\n",
    "        \n",
    "        # Second convolutional layer\n",
    "        self.conv2 = nn.Conv2d(in_channels=32, out_channels=64, kernel_size=3, padding=1)\n",
    "        self.act2 = nn.ReLU()\n",
    "        self.pool2 = nn.MaxPool2d(kernel_size=2, stride=2)\n",
    "        \n",
    "        # Third convolutional layer\n",
    "        self.conv3 = nn.Conv2d(in_channels=64, out_channels=128, kernel_size=3, padding=1)\n",
    "        self.act3 = nn.ReLU()\n",
    "        self.pool3 = nn.MaxPool2d(kernel_size=2, stride=2)\n",
    "\n",
    "        # Fully connected layers\n",
    "        self.fc1 = nn.Linear(128 * 28 * 28, 512)  # Adjust the input features correctly based on the output from the last pooling layer\n",
    "        self.fc2 = nn.Linear(512, num_classes)\n",
    "        \n",
    "    def forward(self, x):\n",
    "        # Apply conv1\n",
    "        x = self.pool1(self.act1(self.conv1(x)))\n",
    "        # Apply conv2\n",
    "        x = self.pool2(self.act2(self.conv2(x)))\n",
    "        # Apply conv3\n",
    "        x = self.pool3(self.act3(self.conv3(x)))\n",
    "        \n",
    "        # Flatten the output for the fully connected layer\n",
    "        x = x.view(-1, 128 * 28 * 28)  # Flatten to match the fully connected layer's input size\n",
    "        \n",
    "        # Apply fc1\n",
    "        x = F.relu(self.fc1(x))\n",
    "        # Output layer\n",
    "        x = self.fc2(x)\n",
    "        return x\n",
    "\n",
    "# Initialize the model\n",
    "model = SimpleCNN(num_classes=10)\n",
    "print(model)"
   ]
  },
  {
   "cell_type": "code",
   "execution_count": 15,
   "id": "a5789762-3580-48e5-89dc-caea46317f8a",
   "metadata": {},
   "outputs": [],
   "source": [
    "# Loss Function\n",
    "criterion = nn.CrossEntropyLoss()\n",
    "optimizer = optim.Adam(model.parameters(), lr=0.001)"
   ]
  },
  {
   "cell_type": "code",
   "execution_count": 16,
   "id": "fff03031-9a64-4dc8-b174-6a2e1ed95114",
   "metadata": {},
   "outputs": [],
   "source": [
    "# Checkpoint and Early Stopping Setup\n",
    "def save_checkpoint(model, epoch, val_accuracy):\n",
    "    filename = f\"model_simplecnn-{epoch:02d}-{val_accuracy:.2f}.pt\"\n",
    "    path = os.path.join(model_dir, filename)\n",
    "    torch.save(model.state_dict(), path)\n",
    "    print(f\"Checkpoint saved to {path}\")\n",
    "\n",
    "class EarlyStopping:\n",
    "    def __init__(self, patience=5, verbose=False):\n",
    "        self.patience = patience\n",
    "        self.verbose = verbose\n",
    "        self.counter = 0\n",
    "        self.best_loss = None\n",
    "        self.early_stop = False\n",
    "\n",
    "    def __call__(self, val_loss):\n",
    "        if self.best_loss is None:\n",
    "            self.best_loss = val_loss\n",
    "        elif val_loss > self.best_loss:\n",
    "            self.counter += 1\n",
    "            if self.verbose:\n",
    "                print(f\"EarlyStopping counter: {self.counter} out of {self.patience}\")\n",
    "            if self.counter >= self.patience:\n",
    "                self.early_stop = True\n",
    "        else:\n",
    "            self.best_loss = val_loss\n",
    "            self.counter = 0"
   ]
  },
  {
   "cell_type": "code",
   "execution_count": 17,
   "id": "066a294a-336f-460e-9838-e8235aa0d42b",
   "metadata": {},
   "outputs": [],
   "source": [
    "def train_model(model, train_loader, test_loader, criterion, optimizer, num_epochs=20):\n",
    "    early_stopping = EarlyStopping(patience=5, verbose=True)\n",
    "    \n",
    "    # Lists to store metrics for plotting\n",
    "    train_losses, test_losses = [], []\n",
    "    test_accuracies = []\n",
    "\n",
    "    #start_time = datetime.now()\n",
    "    \n",
    "    for epoch in range(num_epochs):\n",
    "        model.train()\n",
    "        total_train_loss = 0\n",
    "        for data, targets in tqdm(train_loader, desc=f'Training Epoch {epoch+1}/{num_epochs}', leave=False):\n",
    "            optimizer.zero_grad()\n",
    "            outputs = model(data)\n",
    "            loss = criterion(outputs, targets)\n",
    "            loss.backward()\n",
    "            optimizer.step()\n",
    "            total_train_loss += loss.item() * data.size(0)\n",
    "\n",
    "        avg_train_loss = total_train_loss / len(train_loader.dataset)\n",
    "        train_losses.append(avg_train_loss)\n",
    "\n",
    "        model.eval()\n",
    "        total_test_loss = 0\n",
    "        correct = 0\n",
    "        for data, targets in tqdm(test_loader, desc=f'Validation Epoch {epoch+1}/{num_epochs}', leave=False):\n",
    "            with torch.no_grad():\n",
    "                outputs = model(data)\n",
    "                loss = criterion(outputs, targets)\n",
    "                total_test_loss += loss.item() * data.size(0)\n",
    "                predictions = outputs.argmax(dim=1, keepdim=True)\n",
    "                correct += predictions.eq(targets.view_as(predictions)).sum().item()\n",
    "\n",
    "        avg_test_loss = total_test_loss / len(test_loader.dataset)\n",
    "        test_losses.append(avg_test_loss)\n",
    "        test_accuracy = correct / len(test_loader.dataset)\n",
    "        test_accuracies.append(test_accuracy)\n",
    "\n",
    "        print(f'Epoch {epoch+1}: Train Loss: {avg_train_loss:.4f}, Test Loss: {avg_test_loss:.4f}, Test Accuracy: {test_accuracy:.2f}')\n",
    "\n",
    "        # Save checkpoint if test accuracy has improved\n",
    "        save_checkpoint(model, epoch+1, test_accuracy)\n",
    "\n",
    "        # Check for early stopping condition\n",
    "        early_stopping(avg_test_loss)\n",
    "        if early_stopping.early_stop:\n",
    "            print(\"Early stopping triggered\")\n",
    "            break\n",
    "\n",
    "    #end_time = datetime.now()\n",
    "    #print('Training completed in:', end_time - start_time)\n",
    "    \n",
    "    return train_losses, test_losses, test_accuracies\n"
   ]
  },
  {
   "cell_type": "code",
   "execution_count": 18,
   "id": "99f6c3cc-dac7-47fe-bae2-a6038b83b2d1",
   "metadata": {},
   "outputs": [
    {
     "name": "stderr",
     "output_type": "stream",
     "text": [
      "                                                                      \r"
     ]
    },
    {
     "name": "stdout",
     "output_type": "stream",
     "text": [
      "Epoch 1: Train Loss: 1.7206, Test Loss: 1.0334, Test Accuracy: 0.64\n",
      "Checkpoint saved to C:/Users/kimaa/OneDrive/Desktop\\model\\simple_cnn\\model_simplecnn-01-0.64.pt\n"
     ]
    },
    {
     "name": "stderr",
     "output_type": "stream",
     "text": [
      "                                                                      \r"
     ]
    },
    {
     "name": "stdout",
     "output_type": "stream",
     "text": [
      "Epoch 2: Train Loss: 0.6168, Test Loss: 0.4811, Test Accuracy: 0.84\n",
      "Checkpoint saved to C:/Users/kimaa/OneDrive/Desktop\\model\\simple_cnn\\model_simplecnn-02-0.84.pt\n"
     ]
    },
    {
     "name": "stderr",
     "output_type": "stream",
     "text": [
      "                                                                      \r"
     ]
    },
    {
     "name": "stdout",
     "output_type": "stream",
     "text": [
      "Epoch 3: Train Loss: 0.3243, Test Loss: 0.2342, Test Accuracy: 0.93\n",
      "Checkpoint saved to C:/Users/kimaa/OneDrive/Desktop\\model\\simple_cnn\\model_simplecnn-03-0.93.pt\n"
     ]
    },
    {
     "name": "stderr",
     "output_type": "stream",
     "text": [
      "                                                                      \r"
     ]
    },
    {
     "name": "stdout",
     "output_type": "stream",
     "text": [
      "Epoch 4: Train Loss: 0.2037, Test Loss: 0.2040, Test Accuracy: 0.93\n",
      "Checkpoint saved to C:/Users/kimaa/OneDrive/Desktop\\model\\simple_cnn\\model_simplecnn-04-0.93.pt\n"
     ]
    },
    {
     "name": "stderr",
     "output_type": "stream",
     "text": [
      "                                                                      \r"
     ]
    },
    {
     "name": "stdout",
     "output_type": "stream",
     "text": [
      "Epoch 5: Train Loss: 0.1463, Test Loss: 0.1460, Test Accuracy: 0.95\n",
      "Checkpoint saved to C:/Users/kimaa/OneDrive/Desktop\\model\\simple_cnn\\model_simplecnn-05-0.95.pt\n"
     ]
    },
    {
     "name": "stderr",
     "output_type": "stream",
     "text": [
      "                                                                      \r"
     ]
    },
    {
     "name": "stdout",
     "output_type": "stream",
     "text": [
      "Epoch 6: Train Loss: 0.1248, Test Loss: 0.1303, Test Accuracy: 0.96\n",
      "Checkpoint saved to C:/Users/kimaa/OneDrive/Desktop\\model\\simple_cnn\\model_simplecnn-06-0.96.pt\n"
     ]
    },
    {
     "name": "stderr",
     "output_type": "stream",
     "text": [
      "                                                                      \r"
     ]
    },
    {
     "name": "stdout",
     "output_type": "stream",
     "text": [
      "Epoch 7: Train Loss: 0.1009, Test Loss: 0.0846, Test Accuracy: 0.98\n",
      "Checkpoint saved to C:/Users/kimaa/OneDrive/Desktop\\model\\simple_cnn\\model_simplecnn-07-0.98.pt\n"
     ]
    },
    {
     "name": "stderr",
     "output_type": "stream",
     "text": [
      "                                                                      \r"
     ]
    },
    {
     "name": "stdout",
     "output_type": "stream",
     "text": [
      "Epoch 8: Train Loss: 0.0867, Test Loss: 0.1165, Test Accuracy: 0.97\n",
      "Checkpoint saved to C:/Users/kimaa/OneDrive/Desktop\\model\\simple_cnn\\model_simplecnn-08-0.97.pt\n",
      "EarlyStopping counter: 1 out of 5\n"
     ]
    },
    {
     "name": "stderr",
     "output_type": "stream",
     "text": [
      "                                                                      \r"
     ]
    },
    {
     "name": "stdout",
     "output_type": "stream",
     "text": [
      "Epoch 9: Train Loss: 0.0756, Test Loss: 0.0976, Test Accuracy: 0.97\n",
      "Checkpoint saved to C:/Users/kimaa/OneDrive/Desktop\\model\\simple_cnn\\model_simplecnn-09-0.97.pt\n",
      "EarlyStopping counter: 2 out of 5\n"
     ]
    },
    {
     "name": "stderr",
     "output_type": "stream",
     "text": [
      "                                                                       \r"
     ]
    },
    {
     "name": "stdout",
     "output_type": "stream",
     "text": [
      "Epoch 10: Train Loss: 0.0748, Test Loss: 0.0901, Test Accuracy: 0.98\n",
      "Checkpoint saved to C:/Users/kimaa/OneDrive/Desktop\\model\\simple_cnn\\model_simplecnn-10-0.98.pt\n",
      "EarlyStopping counter: 3 out of 5\n"
     ]
    },
    {
     "name": "stderr",
     "output_type": "stream",
     "text": [
      "                                                                       \r"
     ]
    },
    {
     "name": "stdout",
     "output_type": "stream",
     "text": [
      "Epoch 11: Train Loss: 0.0566, Test Loss: 0.0981, Test Accuracy: 0.97\n",
      "Checkpoint saved to C:/Users/kimaa/OneDrive/Desktop\\model\\simple_cnn\\model_simplecnn-11-0.97.pt\n",
      "EarlyStopping counter: 4 out of 5\n"
     ]
    },
    {
     "name": "stderr",
     "output_type": "stream",
     "text": [
      "                                                                       \r"
     ]
    },
    {
     "name": "stdout",
     "output_type": "stream",
     "text": [
      "Epoch 12: Train Loss: 0.0560, Test Loss: 0.0765, Test Accuracy: 0.98\n",
      "Checkpoint saved to C:/Users/kimaa/OneDrive/Desktop\\model\\simple_cnn\\model_simplecnn-12-0.98.pt\n"
     ]
    },
    {
     "name": "stderr",
     "output_type": "stream",
     "text": [
      "                                                                       \r"
     ]
    },
    {
     "name": "stdout",
     "output_type": "stream",
     "text": [
      "Epoch 13: Train Loss: 0.0476, Test Loss: 0.0653, Test Accuracy: 0.98\n",
      "Checkpoint saved to C:/Users/kimaa/OneDrive/Desktop\\model\\simple_cnn\\model_simplecnn-13-0.98.pt\n"
     ]
    },
    {
     "name": "stderr",
     "output_type": "stream",
     "text": [
      "                                                                       \r"
     ]
    },
    {
     "name": "stdout",
     "output_type": "stream",
     "text": [
      "Epoch 14: Train Loss: 0.0480, Test Loss: 0.0592, Test Accuracy: 0.98\n",
      "Checkpoint saved to C:/Users/kimaa/OneDrive/Desktop\\model\\simple_cnn\\model_simplecnn-14-0.98.pt\n"
     ]
    },
    {
     "name": "stderr",
     "output_type": "stream",
     "text": [
      "                                                                       \r"
     ]
    },
    {
     "name": "stdout",
     "output_type": "stream",
     "text": [
      "Epoch 15: Train Loss: 0.0400, Test Loss: 0.0851, Test Accuracy: 0.98\n",
      "Checkpoint saved to C:/Users/kimaa/OneDrive/Desktop\\model\\simple_cnn\\model_simplecnn-15-0.98.pt\n",
      "EarlyStopping counter: 1 out of 5\n"
     ]
    },
    {
     "name": "stderr",
     "output_type": "stream",
     "text": [
      "                                                                       \r"
     ]
    },
    {
     "name": "stdout",
     "output_type": "stream",
     "text": [
      "Epoch 16: Train Loss: 0.0422, Test Loss: 0.0575, Test Accuracy: 0.98\n",
      "Checkpoint saved to C:/Users/kimaa/OneDrive/Desktop\\model\\simple_cnn\\model_simplecnn-16-0.98.pt\n"
     ]
    },
    {
     "name": "stderr",
     "output_type": "stream",
     "text": [
      "                                                                       \r"
     ]
    },
    {
     "name": "stdout",
     "output_type": "stream",
     "text": [
      "Epoch 17: Train Loss: 0.0384, Test Loss: 0.0551, Test Accuracy: 0.98\n",
      "Checkpoint saved to C:/Users/kimaa/OneDrive/Desktop\\model\\simple_cnn\\model_simplecnn-17-0.98.pt\n"
     ]
    },
    {
     "name": "stderr",
     "output_type": "stream",
     "text": [
      "                                                                       \r"
     ]
    },
    {
     "name": "stdout",
     "output_type": "stream",
     "text": [
      "Epoch 18: Train Loss: 0.0359, Test Loss: 0.0620, Test Accuracy: 0.98\n",
      "Checkpoint saved to C:/Users/kimaa/OneDrive/Desktop\\model\\simple_cnn\\model_simplecnn-18-0.98.pt\n",
      "EarlyStopping counter: 1 out of 5\n"
     ]
    },
    {
     "name": "stderr",
     "output_type": "stream",
     "text": [
      "                                                                       \r"
     ]
    },
    {
     "name": "stdout",
     "output_type": "stream",
     "text": [
      "Epoch 19: Train Loss: 0.0352, Test Loss: 0.0949, Test Accuracy: 0.97\n",
      "Checkpoint saved to C:/Users/kimaa/OneDrive/Desktop\\model\\simple_cnn\\model_simplecnn-19-0.97.pt\n",
      "EarlyStopping counter: 2 out of 5\n"
     ]
    },
    {
     "name": "stderr",
     "output_type": "stream",
     "text": [
      "                                                                       \r"
     ]
    },
    {
     "name": "stdout",
     "output_type": "stream",
     "text": [
      "Epoch 20: Train Loss: 0.0363, Test Loss: 0.0593, Test Accuracy: 0.98\n",
      "Checkpoint saved to C:/Users/kimaa/OneDrive/Desktop\\model\\simple_cnn\\model_simplecnn-20-0.98.pt\n",
      "EarlyStopping counter: 3 out of 5\n"
     ]
    }
   ],
   "source": [
    "start_time = datetime.now()\n",
    "train_losses, test_losses, test_accuracies = train_model(model, train_loader, test_loader, criterion, optimizer, num_epochs=20)\n"
   ]
  },
  {
   "cell_type": "code",
   "execution_count": 19,
   "id": "dc0ad86a-8c35-4e1f-8fe1-fe7d53b97395",
   "metadata": {},
   "outputs": [
    {
     "name": "stdout",
     "output_type": "stream",
     "text": [
      "Training completed in: 3:41:50.964446\n"
     ]
    }
   ],
   "source": [
    "end_time = datetime.now()\n",
    "print('Training completed in:', end_time - start_time)"
   ]
  },
  {
   "cell_type": "code",
   "execution_count": 25,
   "id": "ba51ef19",
   "metadata": {},
   "outputs": [
    {
     "name": "stdout",
     "output_type": "stream",
     "text": [
      "Best test accuracy: 0.9841694537346711\n"
     ]
    }
   ],
   "source": [
    "# After running the training loop\n",
    "final_highest_test_accuracy = max(test_accuracies)\n",
    "print(\"Best test accuracy:\", final_highest_test_accuracy)\n"
   ]
  },
  {
   "cell_type": "code",
   "execution_count": 20,
   "id": "f768631c-79e2-498b-bddb-0ab09ebb39d8",
   "metadata": {},
   "outputs": [],
   "source": [
    "def plot_metrics(train_losses, val_losses, val_accuracies):\n",
    "    epochs = range(1, len(train_losses) + 1)\n",
    "\n",
    "    plt.figure(figsize=(12, 5))\n",
    "    plt.subplot(1, 2, 1)\n",
    "    plt.plot(epochs, train_losses, label='Training Loss')\n",
    "    plt.plot(epochs, val_losses, label='Validation Loss')\n",
    "    plt.title('Training and Validation Loss')\n",
    "    plt.xlabel('Epochs')\n",
    "    plt.ylabel('Loss')\n",
    "    plt.legend()\n",
    "\n",
    "    plt.subplot(1, 2, 2)\n",
    "    plt.plot(epochs, val_accuracies, label='Validation Accuracy')\n",
    "    plt.title('Validation Accuracy')\n",
    "    plt.xlabel('Epochs')\n",
    "    plt.ylabel('Accuracy')\n",
    "    plt.legend()\n",
    "\n",
    "    plt.tight_layout()\n",
    "    plt.show()"
   ]
  },
  {
   "cell_type": "code",
   "execution_count": 23,
   "id": "3f75bcb3-2dae-4a02-8056-bab170258d4c",
   "metadata": {},
   "outputs": [
    {
     "data": {
      "image/png": "[encoded data removed]",
      "text/plain": [
       "<Figure size 1200x500 with 2 Axes>"
      ]
     },
     "metadata": {},
     "output_type": "display_data"
    }
   ],
   "source": [
    "plot_metrics(train_losses, test_losses, test_accuracies)"
   ]
  },
  {
   "cell_type": "code",
   "execution_count": null,
   "id": "77eab691-53fb-41ee-9ba7-868411ca3faa",
   "metadata": {},
   "outputs": [],
   "source": []
  }
 ],
 "metadata": {
  "kernelspec": {
   "display_name": "Python 3 (ipykernel)",
   "language": "python",
   "name": "python3"
  },
  "language_info": {
   "codemirror_mode": {
    "name": "ipython",
    "version": 3
   },
   "file_extension": ".py",
   "mimetype": "text/x-python",
   "name": "python",
   "nbconvert_exporter": "python",
   "pygments_lexer": "ipython3",
   "version": "3.9.13"
  }
 },
 "nbformat": 4,
 "nbformat_minor": 5
}
