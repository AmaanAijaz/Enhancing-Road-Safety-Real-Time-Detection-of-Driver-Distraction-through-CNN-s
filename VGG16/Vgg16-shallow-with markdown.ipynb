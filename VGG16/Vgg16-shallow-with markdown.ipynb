{
  "cells": [
    {
      "cell_type": "markdown",
      "metadata": {},
      "source": [
        "## Import Libraries"
      ]
    },
    {
      "cell_type": "code",
      "execution_count": 1,
      "metadata": {
        "id": "WgZViknIU-UM"
      },
      "outputs": [],
      "source": [
        "\n",
        "import os\n",
        "import numpy as np\n",
        "import pandas as pd\n",
        "from keras.models import Sequential, Model\n",
        "from tensorflow.keras.layers import Input\n",
        "from keras.layers import Dense,Dropout, GlobalAveragePooling2D\n",
        "from tensorflow.keras.preprocessing.image import ImageDataGenerator\n",
        "from keras.optimizers import Adam\n",
        "from keras.applications.vgg16 import VGG16\n",
        "from keras.callbacks import ModelCheckpoint\n",
        "from keras.applications import VGG16\n",
        "from keras.models import Sequential\n",
        "from keras.layers import Flatten, Dense, Dropout\n",
        "from keras.optimizers import Adam\n",
        "from sklearn.metrics import accuracy_score, precision_score, recall_score, f1_score, confusion_matrix, classification_report\n",
        "import matplotlib.pyplot as plt\n",
        "import seaborn as sns\n",
        "import cv2\n",
        "from PIL import Image\n",
        "import secrets\n",
        "from tensorflow.keras.optimizers import SGD\n",
        "from keras.callbacks import ModelCheckpoint, EarlyStopping"
      ]
    },
    {
      "cell_type": "markdown",
      "metadata": {},
      "source": [
        "## Data Loading and Processing"
      ]
    },
    {
      "cell_type": "markdown",
      "metadata": {},
      "source": [
        "Setting the data path"
      ]
    },
    {
      "cell_type": "code",
      "execution_count": 2,
      "metadata": {
        "id": "wtINz4vxVKF5"
      },
      "outputs": [
        {
          "name": "stdout",
          "output_type": "stream",
          "text": [
            "Data Directory: C:/Users/kimaa/OneDrive/Desktop\\imgs\\train\n",
            "Model Directory: C:/Users/kimaa/OneDrive/Desktop\\model\\vgg16_shallow_network\n"
          ]
        }
      ],
      "source": [
        "# Define paths for dataset and model\n",
        "base_path = \"C:/Users/kimaa/OneDrive/Desktop\"\n",
        "\n",
        "data_path = os.path.join(base_path, \"imgs\", \"train\")\n",
        "model_dir = os.path.join(base_path, \"model\", \"vgg16_shallow_network\")\n",
        "\n",
        "\n",
        "print(\"Data Directory:\", data_path)\n",
        "print(\"Model Directory:\", model_dir)"
      ]
    },
    {
      "cell_type": "markdown",
      "metadata": {},
      "source": [
        "### Data Pre-Processing Functions"
      ]
    },
    {
      "cell_type": "code",
      "execution_count": 3,
      "metadata": {
        "id": "KvvNTfaWVKDm"
      },
      "outputs": [],
      "source": [
        "# Preprocessing functions for the images\n",
        "def enhance_brightness(img, value_increment):\n",
        "    hsv_img = cv2.cvtColor(img, cv2.COLOR_BGR2HSV)\n",
        "    h, s, v = cv2.split(hsv_img)\n",
        "    v = cv2.add(v, value_increment)\n",
        "    final_hsv = cv2.merge((h, s, v))\n",
        "    return cv2.cvtColor(final_hsv, cv2.COLOR_HSV2BGR)\n",
        "\n",
        "def change_contrast(img, level):\n",
        "   img = Image.fromarray(img.astype('uint8'))\n",
        "   factor = (259 * (level + 255)) / (255 * (259 - level))\n",
        "   def contrast(c):\n",
        "        return 128 + factor * (c - 128)\n",
        "   return np.array(img.point(contrast))\n",
        "\n",
        "def preprocess_img(img):\n",
        "   img = np.array(img)\n",
        "   x = secrets.randbelow(2)\n",
        "   if x == 0:\n",
        "        img = enhance_brightness(img, secrets.randbelow(26))\n",
        "        img = change_contrast(img, secrets.randbelow(51))\n",
        "   else:\n",
        "        img = change_contrast(img, secrets.randbelow(51))\n",
        "        img = enhance_brightness(img, secrets.randbelow(26))\n",
        "   return img\n"
      ]
    },
    {
      "cell_type": "markdown",
      "metadata": {},
      "source": [
        "Setting up data augmentation configurations and loading training and testing datasets\n"
      ]
    },
    {
      "cell_type": "code",
      "execution_count": 4,
      "metadata": {
        "id": "oIQYhdhFVKBT"
      },
      "outputs": [],
      "source": [
        "datagen = ImageDataGenerator(\n",
        "    rotation_range=5,\n",
        "    width_shift_range=0.02,\n",
        "    height_shift_range=0.02,\n",
        "    shear_range=0.01,\n",
        "    zoom_range=0.05,\n",
        "    horizontal_flip=False,\n",
        "    fill_mode=\"nearest\",\n",
        "    validation_split=0.2,\n",
        "    preprocessing_function=preprocess_img\n",
        ")\n",
        "\n"
      ]
    },
    {
      "cell_type": "code",
      "execution_count": 5,
      "metadata": {
        "id": "4zMlHIjQVJ-x"
      },
      "outputs": [
        {
          "name": "stdout",
          "output_type": "stream",
          "text": [
            "Found 17943 images belonging to 10 classes.\n"
          ]
        }
      ],
      "source": [
        "train_data = datagen.flow_from_directory(\n",
        "    data_path,\n",
        "    target_size=(224, 224),\n",
        "    batch_size=128,\n",
        "    subset='training',\n",
        "    shuffle=True\n",
        ")\n"
      ]
    },
    {
      "cell_type": "code",
      "execution_count": 6,
      "metadata": {
        "id": "CqIg967pVJ8Y"
      },
      "outputs": [
        {
          "name": "stdout",
          "output_type": "stream",
          "text": [
            "Found 4481 images belonging to 10 classes.\n"
          ]
        }
      ],
      "source": [
        "test_data = datagen.flow_from_directory(\n",
        "    data_path,\n",
        "    target_size=(224, 224),\n",
        "    batch_size=128,\n",
        "    subset='validation',\n",
        "    shuffle=True\n",
        ")"
      ]
    },
    {
      "cell_type": "markdown",
      "metadata": {},
      "source": [
        "## Init of VGG Shallow Model"
      ]
    },
    {
      "cell_type": "code",
      "execution_count": 7,
      "metadata": {
        "id": "cgcIGLMVVJ53"
      },
      "outputs": [],
      "source": [
        "\n",
        "def initialize_shallow_vgg16_model(input_shape, num_classes, learning_rate=1e-4):\n",
        "\n",
        "    # Load  base model without the top layer \n",
        "    vgg_base = VGG16(include_top=False, weights='imagenet', input_shape=input_shape)\n",
        "\n",
        "    vgg_base.trainable = False\n",
        "\n",
        "    model = Sequential()\n",
        "    model.add(vgg_base)  \n",
        "\n",
        "    # Flatten the output of the base model to a single dimension\n",
        "    model.add(Flatten())\n",
        "    model.add(Dense(256, activation='relu', kernel_initializer='glorot_normal'))  \n",
        "    model.add(Dropout(0.5))  \n",
        "    \n",
        "    model.add(Dense(num_classes, activation='softmax', kernel_initializer='glorot_normal'))\n",
        "\n",
        "    # Compile the model\n",
        "    model.compile(optimizer=Adam(learning_rate=learning_rate),\n",
        "                  loss='categorical_crossentropy',\n",
        "                  metrics=['accuracy'])\n",
        "\n",
        "    return model\n"
      ]
    },
    {
      "cell_type": "markdown",
      "metadata": {},
      "source": [
        "## Init of Model and Training/Evaluation"
      ]
    },
    {
      "cell_type": "code",
      "execution_count": 8,
      "metadata": {
        "id": "D2MT8cBQVJ3l"
      },
      "outputs": [
        {
          "data": {
            "text/html": [
              "<pre style=\"white-space:pre;overflow-x:auto;line-height:normal;font-family:Menlo,'DejaVu Sans Mono',consolas,'Courier New',monospace\"><span style=\"font-weight: bold\">Model: \"sequential\"</span>\n",
              "</pre>\n"
            ],
            "text/plain": [
              "\u001b[1mModel: \"sequential\"\u001b[0m\n"
            ]
          },
          "metadata": {},
          "output_type": "display_data"
        },
        {
          "data": {
            "text/html": [
              "<pre style=\"white-space:pre;overflow-x:auto;line-height:normal;font-family:Menlo,'DejaVu Sans Mono',consolas,'Courier New',monospace\">┏━━━━━━━━━━━━━━━━━━━━━━━━━━━━━━━━━┳━━━━━━━━━━━━━━━━━━━━━━━━┳━━━━━━━━━━━━━━━┓\n",
              "┃<span style=\"font-weight: bold\"> Layer (type)                    </span>┃<span style=\"font-weight: bold\"> Output Shape           </span>┃<span style=\"font-weight: bold\">       Param # </span>┃\n",
              "┡━━━━━━━━━━━━━━━━━━━━━━━━━━━━━━━━━╇━━━━━━━━━━━━━━━━━━━━━━━━╇━━━━━━━━━━━━━━━┩\n",
              "│ vgg16 (<span style=\"color: #0087ff; text-decoration-color: #0087ff\">Functional</span>)              │ ?                      │    <span style=\"color: #00af00; text-decoration-color: #00af00\">14,714,688</span> │\n",
              "├─────────────────────────────────┼────────────────────────┼───────────────┤\n",
              "│ flatten (<span style=\"color: #0087ff; text-decoration-color: #0087ff\">Flatten</span>)               │ ?                      │   <span style=\"color: #00af00; text-decoration-color: #00af00\">0</span> (unbuilt) │\n",
              "├─────────────────────────────────┼────────────────────────┼───────────────┤\n",
              "│ dense (<span style=\"color: #0087ff; text-decoration-color: #0087ff\">Dense</span>)                   │ ?                      │   <span style=\"color: #00af00; text-decoration-color: #00af00\">0</span> (unbuilt) │\n",
              "├─────────────────────────────────┼────────────────────────┼───────────────┤\n",
              "│ dropout (<span style=\"color: #0087ff; text-decoration-color: #0087ff\">Dropout</span>)               │ ?                      │             <span style=\"color: #00af00; text-decoration-color: #00af00\">0</span> │\n",
              "├─────────────────────────────────┼────────────────────────┼───────────────┤\n",
              "│ dense_1 (<span style=\"color: #0087ff; text-decoration-color: #0087ff\">Dense</span>)                 │ ?                      │   <span style=\"color: #00af00; text-decoration-color: #00af00\">0</span> (unbuilt) │\n",
              "└─────────────────────────────────┴────────────────────────┴───────────────┘\n",
              "</pre>\n"
            ],
            "text/plain": [
              "┏━━━━━━━━━━━━━━━━━━━━━━━━━━━━━━━━━┳━━━━━━━━━━━━━━━━━━━━━━━━┳━━━━━━━━━━━━━━━┓\n",
              "┃\u001b[1m \u001b[0m\u001b[1mLayer (type)                   \u001b[0m\u001b[1m \u001b[0m┃\u001b[1m \u001b[0m\u001b[1mOutput Shape          \u001b[0m\u001b[1m \u001b[0m┃\u001b[1m \u001b[0m\u001b[1m      Param #\u001b[0m\u001b[1m \u001b[0m┃\n",
              "┡━━━━━━━━━━━━━━━━━━━━━━━━━━━━━━━━━╇━━━━━━━━━━━━━━━━━━━━━━━━╇━━━━━━━━━━━━━━━┩\n",
              "│ vgg16 (\u001b[38;5;33mFunctional\u001b[0m)              │ ?                      │    \u001b[38;5;34m14,714,688\u001b[0m │\n",
              "├─────────────────────────────────┼────────────────────────┼───────────────┤\n",
              "│ flatten (\u001b[38;5;33mFlatten\u001b[0m)               │ ?                      │   \u001b[38;5;34m0\u001b[0m (unbuilt) │\n",
              "├─────────────────────────────────┼────────────────────────┼───────────────┤\n",
              "│ dense (\u001b[38;5;33mDense\u001b[0m)                   │ ?                      │   \u001b[38;5;34m0\u001b[0m (unbuilt) │\n",
              "├─────────────────────────────────┼────────────────────────┼───────────────┤\n",
              "│ dropout (\u001b[38;5;33mDropout\u001b[0m)               │ ?                      │             \u001b[38;5;34m0\u001b[0m │\n",
              "├─────────────────────────────────┼────────────────────────┼───────────────┤\n",
              "│ dense_1 (\u001b[38;5;33mDense\u001b[0m)                 │ ?                      │   \u001b[38;5;34m0\u001b[0m (unbuilt) │\n",
              "└─────────────────────────────────┴────────────────────────┴───────────────┘\n"
            ]
          },
          "metadata": {},
          "output_type": "display_data"
        },
        {
          "data": {
            "text/html": [
              "<pre style=\"white-space:pre;overflow-x:auto;line-height:normal;font-family:Menlo,'DejaVu Sans Mono',consolas,'Courier New',monospace\"><span style=\"font-weight: bold\"> Total params: </span><span style=\"color: #00af00; text-decoration-color: #00af00\">14,714,688</span> (56.13 MB)\n",
              "</pre>\n"
            ],
            "text/plain": [
              "\u001b[1m Total params: \u001b[0m\u001b[38;5;34m14,714,688\u001b[0m (56.13 MB)\n"
            ]
          },
          "metadata": {},
          "output_type": "display_data"
        },
        {
          "data": {
            "text/html": [
              "<pre style=\"white-space:pre;overflow-x:auto;line-height:normal;font-family:Menlo,'DejaVu Sans Mono',consolas,'Courier New',monospace\"><span style=\"font-weight: bold\"> Trainable params: </span><span style=\"color: #00af00; text-decoration-color: #00af00\">0</span> (0.00 B)\n",
              "</pre>\n"
            ],
            "text/plain": [
              "\u001b[1m Trainable params: \u001b[0m\u001b[38;5;34m0\u001b[0m (0.00 B)\n"
            ]
          },
          "metadata": {},
          "output_type": "display_data"
        },
        {
          "data": {
            "text/html": [
              "<pre style=\"white-space:pre;overflow-x:auto;line-height:normal;font-family:Menlo,'DejaVu Sans Mono',consolas,'Courier New',monospace\"><span style=\"font-weight: bold\"> Non-trainable params: </span><span style=\"color: #00af00; text-decoration-color: #00af00\">14,714,688</span> (56.13 MB)\n",
              "</pre>\n"
            ],
            "text/plain": [
              "\u001b[1m Non-trainable params: \u001b[0m\u001b[38;5;34m14,714,688\u001b[0m (56.13 MB)\n"
            ]
          },
          "metadata": {},
          "output_type": "display_data"
        }
      ],
      "source": [
        "model = initialize_shallow_vgg16_model(input_shape=(224, 224, 3), num_classes=10)\n",
        "model.summary()"
      ]
    },
    {
      "cell_type": "code",
      "execution_count": 9,
      "metadata": {
        "id": "zrV_ynKnVJ1E"
      },
      "outputs": [],
      "source": [
        "# Setup model checkpointing\n",
        "checkpoint_path = os.path.join(model_dir, \"model_vgg_shallow-{epoch:02d}-{val_accuracy:.2f}.keras\")\n",
        "checkpoint_callback = ModelCheckpoint(filepath=checkpoint_path,\n",
        "                                      monitor='val_accuracy',\n",
        "                                      save_best_only=True,\n",
        "                                      verbose=1)\n",
        "\n",
        "early_stopping_callback = EarlyStopping(monitor='val_loss', patience=5, verbose=1)\n"
      ]
    },
    {
      "cell_type": "code",
      "execution_count": 10,
      "metadata": {
        "id": "I3ZuBoqtVJyj"
      },
      "outputs": [
        {
          "name": "stdout",
          "output_type": "stream",
          "text": [
            "Epoch 1/20\n"
          ]
        },
        {
          "name": "stderr",
          "output_type": "stream",
          "text": [
            "C:\\Users\\kimaa\\AppData\\Local\\Packages\\PythonSoftwareFoundation.Python.3.9_qbz5n2kfra8p0\\LocalCache\\local-packages\\Python39\\site-packages\\keras\\src\\trainers\\data_adapters\\py_dataset_adapter.py:120: UserWarning: Your `PyDataset` class should call `super().__init__(**kwargs)` in its constructor. `**kwargs` can include `workers`, `use_multiprocessing`, `max_queue_size`. Do not pass these arguments to `fit()`, as they will be ignored.\n",
            "  self._warn_if_super_not_called()\n"
          ]
        },
        {
          "name": "stdout",
          "output_type": "stream",
          "text": [
            "\u001b[1m141/141\u001b[0m \u001b[32m━━━━━━━━━━━━━━━━━━━━\u001b[0m\u001b[37m\u001b[0m \u001b[1m0s\u001b[0m 5s/step - accuracy: 0.2521 - loss: 9.9939 \n",
            "Epoch 1: val_accuracy improved from -inf to 0.61370, saving model to C:/Users/kimaa/OneDrive/Desktop\\model\\vgg16_shallow_network\\model_vgg_shallow-01-0.61.keras\n",
            "\u001b[1m141/141\u001b[0m \u001b[32m━━━━━━━━━━━━━━━━━━━━\u001b[0m\u001b[37m\u001b[0m \u001b[1m853s\u001b[0m 6s/step - accuracy: 0.2525 - loss: 9.9533 - val_accuracy: 0.6137 - val_loss: 1.1781\n",
            "Epoch 2/20\n",
            "\u001b[1m141/141\u001b[0m \u001b[32m━━━━━━━━━━━━━━━━━━━━\u001b[0m\u001b[37m\u001b[0m \u001b[1m0s\u001b[0m 5s/step - accuracy: 0.5013 - loss: 1.4677\n",
            "Epoch 2: val_accuracy improved from 0.61370 to 0.85941, saving model to C:/Users/kimaa/OneDrive/Desktop\\model\\vgg16_shallow_network\\model_vgg_shallow-02-0.86.keras\n",
            "\u001b[1m141/141\u001b[0m \u001b[32m━━━━━━━━━━━━━━━━━━━━\u001b[0m\u001b[37m\u001b[0m \u001b[1m848s\u001b[0m 6s/step - accuracy: 0.5017 - loss: 1.4666 - val_accuracy: 0.8594 - val_loss: 0.4553\n",
            "Epoch 3/20\n",
            "\u001b[1m141/141\u001b[0m \u001b[32m━━━━━━━━━━━━━━━━━━━━\u001b[0m\u001b[37m\u001b[0m \u001b[1m0s\u001b[0m 5s/step - accuracy: 0.6873 - loss: 0.9687\n",
            "Epoch 3: val_accuracy improved from 0.85941 to 0.92479, saving model to C:/Users/kimaa/OneDrive/Desktop\\model\\vgg16_shallow_network\\model_vgg_shallow-03-0.92.keras\n",
            "\u001b[1m141/141\u001b[0m \u001b[32m━━━━━━━━━━━━━━━━━━━━\u001b[0m\u001b[37m\u001b[0m \u001b[1m850s\u001b[0m 6s/step - accuracy: 0.6875 - loss: 0.9678 - val_accuracy: 0.9248 - val_loss: 0.2515\n",
            "Epoch 4/20\n",
            "\u001b[1m141/141\u001b[0m \u001b[32m━━━━━━━━━━━━━━━━━━━━\u001b[0m\u001b[37m\u001b[0m \u001b[1m0s\u001b[0m 5s/step - accuracy: 0.7961 - loss: 0.6325\n",
            "Epoch 4: val_accuracy improved from 0.92479 to 0.95983, saving model to C:/Users/kimaa/OneDrive/Desktop\\model\\vgg16_shallow_network\\model_vgg_shallow-04-0.96.keras\n",
            "\u001b[1m141/141\u001b[0m \u001b[32m━━━━━━━━━━━━━━━━━━━━\u001b[0m\u001b[37m\u001b[0m \u001b[1m847s\u001b[0m 6s/step - accuracy: 0.7962 - loss: 0.6322 - val_accuracy: 0.9598 - val_loss: 0.1448\n",
            "Epoch 5/20\n",
            "\u001b[1m141/141\u001b[0m \u001b[32m━━━━━━━━━━━━━━━━━━━━\u001b[0m\u001b[37m\u001b[0m \u001b[1m0s\u001b[0m 5s/step - accuracy: 0.8333 - loss: 0.5143\n",
            "Epoch 5: val_accuracy improved from 0.95983 to 0.96943, saving model to C:/Users/kimaa/OneDrive/Desktop\\model\\vgg16_shallow_network\\model_vgg_shallow-05-0.97.keras\n",
            "\u001b[1m141/141\u001b[0m \u001b[32m━━━━━━━━━━━━━━━━━━━━\u001b[0m\u001b[37m\u001b[0m \u001b[1m848s\u001b[0m 6s/step - accuracy: 0.8334 - loss: 0.5141 - val_accuracy: 0.9694 - val_loss: 0.1030\n",
            "Epoch 6/20\n",
            "\u001b[1m141/141\u001b[0m \u001b[32m━━━━━━━━━━━━━━━━━━━━\u001b[0m\u001b[37m\u001b[0m \u001b[1m0s\u001b[0m 5s/step - accuracy: 0.8759 - loss: 0.3977\n",
            "Epoch 6: val_accuracy improved from 0.96943 to 0.97434, saving model to C:/Users/kimaa/OneDrive/Desktop\\model\\vgg16_shallow_network\\model_vgg_shallow-06-0.97.keras\n",
            "\u001b[1m141/141\u001b[0m \u001b[32m━━━━━━━━━━━━━━━━━━━━\u001b[0m\u001b[37m\u001b[0m \u001b[1m849s\u001b[0m 6s/step - accuracy: 0.8759 - loss: 0.3975 - val_accuracy: 0.9743 - val_loss: 0.1791\n",
            "Epoch 7/20\n",
            "\u001b[1m141/141\u001b[0m \u001b[32m━━━━━━━━━━━━━━━━━━━━\u001b[0m\u001b[37m\u001b[0m \u001b[1m0s\u001b[0m 5s/step - accuracy: 0.9004 - loss: 0.3103\n",
            "Epoch 7: val_accuracy improved from 0.97434 to 0.98125, saving model to C:/Users/kimaa/OneDrive/Desktop\\model\\vgg16_shallow_network\\model_vgg_shallow-07-0.98.keras\n",
            "\u001b[1m141/141\u001b[0m \u001b[32m━━━━━━━━━━━━━━━━━━━━\u001b[0m\u001b[37m\u001b[0m \u001b[1m851s\u001b[0m 6s/step - accuracy: 0.9004 - loss: 0.3103 - val_accuracy: 0.9813 - val_loss: 0.0586\n",
            "Epoch 8/20\n",
            "\u001b[1m141/141\u001b[0m \u001b[32m━━━━━━━━━━━━━━━━━━━━\u001b[0m\u001b[37m\u001b[0m \u001b[1m0s\u001b[0m 5s/step - accuracy: 0.9127 - loss: 0.2706\n",
            "Epoch 8: val_accuracy did not improve from 0.98125\n",
            "\u001b[1m141/141\u001b[0m \u001b[32m━━━━━━━━━━━━━━━━━━━━\u001b[0m\u001b[37m\u001b[0m \u001b[1m848s\u001b[0m 6s/step - accuracy: 0.9127 - loss: 0.2705 - val_accuracy: 0.9808 - val_loss: 0.0641\n",
            "Epoch 9/20\n",
            "\u001b[1m141/141\u001b[0m \u001b[32m━━━━━━━━━━━━━━━━━━━━\u001b[0m\u001b[37m\u001b[0m \u001b[1m0s\u001b[0m 5s/step - accuracy: 0.9220 - loss: 0.2413\n",
            "Epoch 9: val_accuracy improved from 0.98125 to 0.98416, saving model to C:/Users/kimaa/OneDrive/Desktop\\model\\vgg16_shallow_network\\model_vgg_shallow-09-0.98.keras\n",
            "\u001b[1m141/141\u001b[0m \u001b[32m━━━━━━━━━━━━━━━━━━━━\u001b[0m\u001b[37m\u001b[0m \u001b[1m847s\u001b[0m 6s/step - accuracy: 0.9220 - loss: 0.2413 - val_accuracy: 0.9842 - val_loss: 0.0556\n",
            "Epoch 10/20\n",
            "\u001b[1m141/141\u001b[0m \u001b[32m━━━━━━━━━━━━━━━━━━━━\u001b[0m\u001b[37m\u001b[0m \u001b[1m0s\u001b[0m 5s/step - accuracy: 0.9327 - loss: 0.2209\n",
            "Epoch 10: val_accuracy did not improve from 0.98416\n",
            "\u001b[1m141/141\u001b[0m \u001b[32m━━━━━━━━━━━━━━━━━━━━\u001b[0m\u001b[37m\u001b[0m \u001b[1m848s\u001b[0m 6s/step - accuracy: 0.9327 - loss: 0.2209 - val_accuracy: 0.9842 - val_loss: 0.0539\n",
            "Epoch 11/20\n",
            "\u001b[1m141/141\u001b[0m \u001b[32m━━━━━━━━━━━━━━━━━━━━\u001b[0m\u001b[37m\u001b[0m \u001b[1m0s\u001b[0m 5s/step - accuracy: 0.9381 - loss: 0.2002\n",
            "Epoch 11: val_accuracy improved from 0.98416 to 0.98549, saving model to C:/Users/kimaa/OneDrive/Desktop\\model\\vgg16_shallow_network\\model_vgg_shallow-11-0.99.keras\n",
            "\u001b[1m141/141\u001b[0m \u001b[32m━━━━━━━━━━━━━━━━━━━━\u001b[0m\u001b[37m\u001b[0m \u001b[1m849s\u001b[0m 6s/step - accuracy: 0.9381 - loss: 0.2002 - val_accuracy: 0.9855 - val_loss: 0.0420\n",
            "Epoch 12/20\n",
            "\u001b[1m141/141\u001b[0m \u001b[32m━━━━━━━━━━━━━━━━━━━━\u001b[0m\u001b[37m\u001b[0m \u001b[1m0s\u001b[0m 5s/step - accuracy: 0.9440 - loss: 0.1787\n",
            "Epoch 12: val_accuracy improved from 0.98549 to 0.98706, saving model to C:/Users/kimaa/OneDrive/Desktop\\model\\vgg16_shallow_network\\model_vgg_shallow-12-0.99.keras\n",
            "\u001b[1m141/141\u001b[0m \u001b[32m━━━━━━━━━━━━━━━━━━━━\u001b[0m\u001b[37m\u001b[0m \u001b[1m848s\u001b[0m 6s/step - accuracy: 0.9441 - loss: 0.1787 - val_accuracy: 0.9871 - val_loss: 0.0373\n",
            "Epoch 13/20\n",
            "\u001b[1m141/141\u001b[0m \u001b[32m━━━━━━━━━━━━━━━━━━━━\u001b[0m\u001b[37m\u001b[0m \u001b[1m0s\u001b[0m 5s/step - accuracy: 0.9500 - loss: 0.1654\n",
            "Epoch 13: val_accuracy improved from 0.98706 to 0.99018, saving model to C:/Users/kimaa/OneDrive/Desktop\\model\\vgg16_shallow_network\\model_vgg_shallow-13-0.99.keras\n",
            "\u001b[1m141/141\u001b[0m \u001b[32m━━━━━━━━━━━━━━━━━━━━\u001b[0m\u001b[37m\u001b[0m \u001b[1m848s\u001b[0m 6s/step - accuracy: 0.9500 - loss: 0.1654 - val_accuracy: 0.9902 - val_loss: 0.0411\n",
            "Epoch 14/20\n",
            "\u001b[1m141/141\u001b[0m \u001b[32m━━━━━━━━━━━━━━━━━━━━\u001b[0m\u001b[37m\u001b[0m \u001b[1m0s\u001b[0m 5s/step - accuracy: 0.9490 - loss: 0.1572\n",
            "Epoch 14: val_accuracy did not improve from 0.99018\n",
            "\u001b[1m141/141\u001b[0m \u001b[32m━━━━━━━━━━━━━━━━━━━━\u001b[0m\u001b[37m\u001b[0m \u001b[1m847s\u001b[0m 6s/step - accuracy: 0.9490 - loss: 0.1572 - val_accuracy: 0.9900 - val_loss: 0.0317\n",
            "Epoch 15/20\n",
            "\u001b[1m141/141\u001b[0m \u001b[32m━━━━━━━━━━━━━━━━━━━━\u001b[0m\u001b[37m\u001b[0m \u001b[1m0s\u001b[0m 5s/step - accuracy: 0.9559 - loss: 0.1383\n",
            "Epoch 15: val_accuracy did not improve from 0.99018\n",
            "\u001b[1m141/141\u001b[0m \u001b[32m━━━━━━━━━━━━━━━━━━━━\u001b[0m\u001b[37m\u001b[0m \u001b[1m849s\u001b[0m 6s/step - accuracy: 0.9559 - loss: 0.1383 - val_accuracy: 0.9893 - val_loss: 0.0406\n",
            "Epoch 16/20\n",
            "\u001b[1m141/141\u001b[0m \u001b[32m━━━━━━━━━━━━━━━━━━━━\u001b[0m\u001b[37m\u001b[0m \u001b[1m0s\u001b[0m 5s/step - accuracy: 0.9590 - loss: 0.1268\n",
            "Epoch 16: val_accuracy improved from 0.99018 to 0.99152, saving model to C:/Users/kimaa/OneDrive/Desktop\\model\\vgg16_shallow_network\\model_vgg_shallow-16-0.99.keras\n",
            "\u001b[1m141/141\u001b[0m \u001b[32m━━━━━━━━━━━━━━━━━━━━\u001b[0m\u001b[37m\u001b[0m \u001b[1m846s\u001b[0m 6s/step - accuracy: 0.9590 - loss: 0.1269 - val_accuracy: 0.9915 - val_loss: 0.0327\n",
            "Epoch 17/20\n",
            "\u001b[1m141/141\u001b[0m \u001b[32m━━━━━━━━━━━━━━━━━━━━\u001b[0m\u001b[37m\u001b[0m \u001b[1m0s\u001b[0m 5s/step - accuracy: 0.9611 - loss: 0.1195\n",
            "Epoch 17: val_accuracy improved from 0.99152 to 0.99174, saving model to C:/Users/kimaa/OneDrive/Desktop\\model\\vgg16_shallow_network\\model_vgg_shallow-17-0.99.keras\n",
            "\u001b[1m141/141\u001b[0m \u001b[32m━━━━━━━━━━━━━━━━━━━━\u001b[0m\u001b[37m\u001b[0m \u001b[1m846s\u001b[0m 6s/step - accuracy: 0.9612 - loss: 0.1195 - val_accuracy: 0.9917 - val_loss: 0.0257\n",
            "Epoch 18/20\n",
            "\u001b[1m141/141\u001b[0m \u001b[32m━━━━━━━━━━━━━━━━━━━━\u001b[0m\u001b[37m\u001b[0m \u001b[1m0s\u001b[0m 5s/step - accuracy: 0.9592 - loss: 0.1371\n",
            "Epoch 18: val_accuracy improved from 0.99174 to 0.99197, saving model to C:/Users/kimaa/OneDrive/Desktop\\model\\vgg16_shallow_network\\model_vgg_shallow-18-0.99.keras\n",
            "\u001b[1m141/141\u001b[0m \u001b[32m━━━━━━━━━━━━━━━━━━━━\u001b[0m\u001b[37m\u001b[0m \u001b[1m846s\u001b[0m 6s/step - accuracy: 0.9592 - loss: 0.1372 - val_accuracy: 0.9920 - val_loss: 0.0345\n",
            "Epoch 19/20\n",
            "\u001b[1m141/141\u001b[0m \u001b[32m━━━━━━━━━━━━━━━━━━━━\u001b[0m\u001b[37m\u001b[0m \u001b[1m0s\u001b[0m 5s/step - accuracy: 0.9593 - loss: 0.1240\n",
            "Epoch 19: val_accuracy did not improve from 0.99197\n",
            "\u001b[1m141/141\u001b[0m \u001b[32m━━━━━━━━━━━━━━━━━━━━\u001b[0m\u001b[37m\u001b[0m \u001b[1m846s\u001b[0m 6s/step - accuracy: 0.9593 - loss: 0.1240 - val_accuracy: 0.9917 - val_loss: 0.0282\n",
            "Epoch 20/20\n",
            "\u001b[1m141/141\u001b[0m \u001b[32m━━━━━━━━━━━━━━━━━━━━\u001b[0m\u001b[37m\u001b[0m \u001b[1m0s\u001b[0m 5s/step - accuracy: 0.9612 - loss: 0.1216\n",
            "Epoch 20: val_accuracy did not improve from 0.99197\n",
            "\u001b[1m141/141\u001b[0m \u001b[32m━━━━━━━━━━━━━━━━━━━━\u001b[0m\u001b[37m\u001b[0m \u001b[1m846s\u001b[0m 6s/step - accuracy: 0.9613 - loss: 0.1215 - val_accuracy: 0.9920 - val_loss: 0.0317\n"
          ]
        }
      ],
      "source": [
        "# Start training\n",
        "history = model.fit(train_data,\n",
        "                    epochs=20,\n",
        "                    validation_data=test_data,\n",
        "                    callbacks=[checkpoint_callback, early_stopping_callback])\n",
        "\n",
        "# Save the model\n",
        "try:\n",
        "    model.save(os.path.join(model_dir, 'final_model_deep_net_batchwise.keras'))\n",
        "except Exception as e:\n",
        "    print(f\"An error occurred while saving the model: {e}\")"
      ]
    },
    {
      "cell_type": "markdown",
      "metadata": {},
      "source": [
        "## Data Visualization of Metrics"
      ]
    },
    {
      "cell_type": "code",
      "execution_count": 11,
      "metadata": {
        "id": "IPjsQF7ZVJwC"
      },
      "outputs": [],
      "source": [
        "def plot_training_history(history):\n",
        "    acc = history.history['accuracy']\n",
        "    val_acc = history.history['val_accuracy']\n",
        "    loss = history.history['loss']\n",
        "    val_loss = history.history['val_loss']\n",
        "    epochs_range = range(len(acc))\n",
        "\n",
        "    plt.figure(figsize=(12, 6))\n",
        "    plt.subplot(1, 2, 1)\n",
        "    plt.plot(epochs_range, acc, label='Training Accuracy')\n",
        "    plt.plot(epochs_range, val_acc, label='Validation Accuracy')\n",
        "    plt.legend(loc='lower right')\n",
        "    plt.title('Training and Validation Accuracy')\n",
        "\n",
        "    plt.subplot(1, 2, 2)\n",
        "    plt.plot(epochs_range, loss, label='Training Loss')\n",
        "    plt.plot(epochs_range, val_loss, label='Validation Loss')\n",
        "    plt.legend(loc='upper right')\n",
        "    plt.title('Training and Validation Loss')\n",
        "    plt.show()"
      ]
    },
    {
      "cell_type": "code",
      "execution_count": 12,
      "metadata": {
        "id": "0K31qToWVJtb"
      },
      "outputs": [
        {
          "data": {
            "image/png": "[encoded data removed]",
            "text/plain": [
              "<Figure size 1200x600 with 2 Axes>"
            ]
          },
          "metadata": {},
          "output_type": "display_data"
        }
      ],
      "source": [
        "plot_training_history(history)"
      ]
    },
    {
      "cell_type": "code",
      "execution_count": 13,
      "metadata": {
        "id": "Poayxo-_WfPO"
      },
      "outputs": [
        {
          "name": "stdout",
          "output_type": "stream",
          "text": [
            "\u001b[1m36/36\u001b[0m \u001b[32m━━━━━━━━━━━━━━━━━━━━\u001b[0m\u001b[37m\u001b[0m \u001b[1m168s\u001b[0m 5s/step - accuracy: 0.9937 - loss: 0.0386\n",
            "Test accuracy: 99.29%, Test loss: 0.08\n",
            "\u001b[1m36/36\u001b[0m \u001b[32m━━━━━━━━━━━━━━━━━━━━\u001b[0m\u001b[37m\u001b[0m \u001b[1m169s\u001b[0m 5s/step\n"
          ]
        }
      ],
      "source": [
        "\n",
        "# Evaluate the model on the test set\n",
        "test_loss, test_accuracy = model.evaluate(test_data)\n",
        "print(f\"Test accuracy: {test_accuracy*100:.2f}%, Test loss: {test_loss:.2f}\")\n",
        "\n",
        "\n",
        "# Generate predictions for all images in the test set\n",
        "true_classes = test_data.classes\n",
        "class_labels = list(test_data.class_indices.keys())\n",
        "predictions = model.predict(test_data)\n",
        "predicted_classes = np.argmax(predictions, axis=1)\n",
        "\n"
      ]
    }
  ],
  "metadata": {
    "colab": {
      "provenance": []
    },
    "kernelspec": {
      "display_name": "Python 3",
      "name": "python3"
    },
    "language_info": {
      "codemirror_mode": {
        "name": "ipython",
        "version": 3
      },
      "file_extension": ".py",
      "mimetype": "text/x-python",
      "name": "python",
      "nbconvert_exporter": "python",
      "pygments_lexer": "ipython3",
      "version": "3.9.13"
    }
  },
  "nbformat": 4,
  "nbformat_minor": 0
}
