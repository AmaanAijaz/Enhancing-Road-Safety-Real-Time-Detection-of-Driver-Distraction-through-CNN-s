{
 "cells": [
  {
   "cell_type": "markdown",
   "metadata": {},
   "source": [
    "## Import Libraries"
   ]
  },
  {
   "cell_type": "code",
   "execution_count": 3,
   "metadata": {
    "colab": {
     "base_uri": "https://localhost:8080/"
    },
    "id": "sgimg8zIDapo",
    "outputId": "688df9bd-cd6f-4e9c-c647-432e37e195c0"
   },
   "outputs": [],
   "source": [
    "\n",
    "import os\n",
    "import numpy as np\n",
    "import pandas as pd\n",
    "from keras.models import Sequential, Model\n",
    "from tensorflow.keras.layers import Input, Flatten\n",
    "from keras.layers import Dense,Dropout, GlobalAveragePooling2D\n",
    "from keras.preprocessing.image import ImageDataGenerator\n",
    "from keras.optimizers import Adam\n",
    "from keras.applications.vgg16 import VGG16\n",
    "from keras.callbacks import ModelCheckpoint\n",
    "from sklearn.metrics import accuracy_score, precision_score, recall_score, f1_score, confusion_matrix, classification_report\n",
    "import matplotlib.pyplot as plt\n",
    "import seaborn as sns\n",
    "import cv2\n",
    "from PIL import Image\n",
    "import secrets\n",
    "from tensorflow.keras.optimizers import SGD\n",
    "from keras.callbacks import ModelCheckpoint, EarlyStopping"
   ]
  },
  {
   "cell_type": "markdown",
   "metadata": {},
   "source": [
    "## Data Loading and Processing"
   ]
  },
  {
   "cell_type": "markdown",
   "metadata": {},
   "source": [
    "Setting the data path"
   ]
  },
  {
   "cell_type": "code",
   "execution_count": 4,
   "metadata": {
    "colab": {
     "base_uri": "https://localhost:8080/"
    },
    "id": "Gb4A5Wo6JlII",
    "outputId": "8f45888a-5b18-4245-d3ef-88f6e387db7b"
   },
   "outputs": [
    {
     "name": "stdout",
     "output_type": "stream",
     "text": [
      "Data Directory: C:/Users/amaan/Desktop/444-Project\\imgs\\train\n",
      "Model Directory: C:/Users/amaan/Desktop/444-Project\\model\\vgg16_shallow_network\n"
     ]
    }
   ],
   "source": [
    "# Define paths for dataset and model\n",
    "base_path = \"C:/Users/amaan/Desktop/444-Project\"\n",
    "data_path = os.path.join(base_path, \"imgs\", \"train\")\n",
    "model_dir = os.path.join(base_path, \"model\", \"vgg16_shallow_network\")\n",
    "\n",
    "\n",
    "print(\"Data Directory:\", data_path)\n",
    "print(\"Model Directory:\", model_dir)\n",
    "\n"
   ]
  },
  {
   "cell_type": "markdown",
   "metadata": {},
   "source": [
    "### Data Pre-Processing Functions"
   ]
  },
  {
   "cell_type": "code",
   "execution_count": 5,
   "metadata": {
    "id": "A-3vDSQ2KOeg"
   },
   "outputs": [],
   "source": [
    "# Preprocessing functions for the images\n",
    "def enhance_brightness(img, value_increment):\n",
    "    hsv_img = cv2.cvtColor(img, cv2.COLOR_BGR2HSV)\n",
    "    h, s, v = cv2.split(hsv_img)\n",
    "    v = cv2.add(v, value_increment)\n",
    "    final_hsv = cv2.merge((h, s, v))\n",
    "    return cv2.cvtColor(final_hsv, cv2.COLOR_HSV2BGR)\n",
    "\n",
    "def change_contrast(img, level):\n",
    "   img = Image.fromarray(img.astype('uint8'))\n",
    "   factor = (259 * (level + 255)) / (255 * (259 - level))\n",
    "   def contrast(c):\n",
    "        return 128 + factor * (c - 128)\n",
    "   return np.array(img.point(contrast))\n",
    "\n",
    "def preprocess_img(img):\n",
    "   img = np.array(img)\n",
    "   x = secrets.randbelow(2)\n",
    "   if x == 0:\n",
    "        # img = pad_img(img)\n",
    "        img = enhance_brightness(img, secrets.randbelow(26))\n",
    "        img = change_contrast(img, secrets.randbelow(51))\n",
    "   else:\n",
    "        # img = pad_img(img)\n",
    "        img = change_contrast(img, secrets.randbelow(51))\n",
    "        img = enhance_brightness(img, secrets.randbelow(26))\n",
    "   return img\n"
   ]
  },
  {
   "cell_type": "markdown",
   "metadata": {},
   "source": [
    "Setting up data augmentation configurations and loading training and testing datasets"
   ]
  },
  {
   "cell_type": "code",
   "execution_count": 6,
   "metadata": {
    "id": "Seww9vy7KOcK"
   },
   "outputs": [],
   "source": [
    "datagen = ImageDataGenerator(\n",
    "    rotation_range=5,\n",
    "    width_shift_range=0.02,\n",
    "    height_shift_range=0.02,\n",
    "    shear_range=0.01,\n",
    "    zoom_range=0.05,\n",
    "    horizontal_flip=False,\n",
    "    fill_mode=\"nearest\",\n",
    "    validation_split=0.2,\n",
    "    preprocessing_function=preprocess_img\n",
    ")\n",
    "\n"
   ]
  },
  {
   "cell_type": "code",
   "execution_count": 7,
   "metadata": {
    "colab": {
     "base_uri": "https://localhost:8080/"
    },
    "id": "2dVPbV6JKOZY",
    "outputId": "1394a3e3-ba3c-45e4-90f9-77721ac82c14"
   },
   "outputs": [
    {
     "name": "stdout",
     "output_type": "stream",
     "text": [
      "Found 17943 images belonging to 10 classes.\n"
     ]
    }
   ],
   "source": [
    "train_data = datagen.flow_from_directory(\n",
    "    data_path,\n",
    "    target_size=(224, 224),\n",
    "    batch_size=128,\n",
    "    subset='training',\n",
    "    shuffle=True\n",
    ")\n"
   ]
  },
  {
   "cell_type": "code",
   "execution_count": 8,
   "metadata": {
    "colab": {
     "base_uri": "https://localhost:8080/"
    },
    "id": "okM_uhJJKOXC",
    "outputId": "0ef977a6-5a22-4dba-8a34-339bbd4f8b8d"
   },
   "outputs": [
    {
     "name": "stdout",
     "output_type": "stream",
     "text": [
      "Found 4481 images belonging to 10 classes.\n"
     ]
    }
   ],
   "source": [
    "test_data = datagen.flow_from_directory(\n",
    "    data_path,\n",
    "    target_size=(224, 224),\n",
    "    batch_size=128,\n",
    "    subset='validation',\n",
    "    shuffle=True\n",
    ")"
   ]
  },
  {
   "cell_type": "markdown",
   "metadata": {},
   "source": [
    "## Init of VGG Deep Network Model"
   ]
  },
  {
   "cell_type": "code",
   "execution_count": 9,
   "metadata": {
    "colab": {
     "base_uri": "https://localhost:8080/"
    },
    "id": "HC4inlSxKOUp",
    "outputId": "f06ce663-f3c6-4f23-933f-b92d78031e1f"
   },
   "outputs": [],
   "source": [
    "def initialize_deep_vgg16_model(input_shape, num_classes, learning_rate=1e-4):\n",
    "    \n",
    "    vgg_base = VGG16(include_top=False, weights='imagenet', input_shape=input_shape)\n",
    "    model = Sequential() # Initialize the model\n",
    "    model.add(vgg_base)\n",
    "    \n",
    "    model.add(Flatten())\n",
    "    model.add(Dense(500, activation='relu', kernel_initializer='glorot_normal'))\n",
    "    model.add(Dropout(0.5))\n",
    "    model.add(Dense(num_classes, activation='softmax', kernel_initializer='glorot_normal'))\n",
    "\n",
    "    model.compile(optimizer=Adam(learning_rate=learning_rate),\n",
    "                  loss='categorical_crossentropy',\n",
    "                  metrics=['accuracy'])\n",
    "    return model"
   ]
  },
  {
   "cell_type": "markdown",
   "metadata": {},
   "source": [
    "## Init of Model and Training/Evaluation"
   ]
  },
  {
   "cell_type": "code",
   "execution_count": 10,
   "metadata": {},
   "outputs": [
    {
     "name": "stdout",
     "output_type": "stream",
     "text": [
      "Model: \"sequential\"\n",
      "_________________________________________________________________\n",
      " Layer (type)                Output Shape              Param #   \n",
      "=================================================================\n",
      " vgg16 (Functional)          (None, 7, 7, 512)         14714688  \n",
      "                                                                 \n",
      " flatten (Flatten)           (None, 25088)             0         \n",
      "                                                                 \n",
      " dense (Dense)               (None, 500)               12544500  \n",
      "                                                                 \n",
      " dropout (Dropout)           (None, 500)               0         \n",
      "                                                                 \n",
      " dense_1 (Dense)             (None, 10)                5010      \n",
      "                                                                 \n",
      "=================================================================\n",
      "Total params: 27,264,198\n",
      "Trainable params: 27,264,198\n",
      "Non-trainable params: 0\n",
      "_________________________________________________________________\n"
     ]
    }
   ],
   "source": [
    "model = initialize_deep_vgg16_model(input_shape=(224, 224, 3), num_classes=10)\n",
    "model.summary()"
   ]
  },
  {
   "cell_type": "code",
   "execution_count": 12,
   "metadata": {},
   "outputs": [],
   "source": [
    "# Setup model checkpointing\n",
    "checkpoint_path = os.path.join(model_dir, \"model_vgg_deep-{epoch:02d}-{val_accuracy:.2f}.keras\")\n",
    "checkpoint_callback = ModelCheckpoint(filepath=checkpoint_path,\n",
    "                                      monitor='val_accuracy',\n",
    "                                      save_best_only=True,\n",
    "                                      verbose=1)\n",
    "\n",
    "early_stopping_callback = EarlyStopping(monitor='val_loss', patience=5, verbose=1)\n"
   ]
  },
  {
   "cell_type": "code",
   "execution_count": 13,
   "metadata": {},
   "outputs": [
    {
     "name": "stdout",
     "output_type": "stream",
     "text": [
      "Epoch 1/20\n",
      "141/141 [==============================] - ETA: 0s - loss: 2.3937 - accuracy: 0.2678 \n",
      "Epoch 1: val_accuracy improved from -inf to 0.58134, saving model to C:/Users/amaan/Desktop/444-Project\\model\\vgg16_shallow_network\\model_vgg_deep-01-0.58.keras\n",
      "141/141 [==============================] - 6988s 49s/step - loss: 2.3937 - accuracy: 0.2678 - val_loss: 1.1460 - val_accuracy: 0.5813\n",
      "Epoch 2/20\n",
      "141/141 [==============================] - ETA: 0s - loss: 0.7164 - accuracy: 0.7503 \n",
      "Epoch 2: val_accuracy improved from 0.58134 to 0.93350, saving model to C:/Users/amaan/Desktop/444-Project\\model\\vgg16_shallow_network\\model_vgg_deep-02-0.93.keras\n",
      "141/141 [==============================] - 6785s 48s/step - loss: 0.7164 - accuracy: 0.7503 - val_loss: 0.2288 - val_accuracy: 0.9335\n",
      "Epoch 3/20\n",
      "141/141 [==============================] - ETA: 0s - loss: 0.2025 - accuracy: 0.9423 \n",
      "Epoch 3: val_accuracy improved from 0.93350 to 0.97277, saving model to C:/Users/amaan/Desktop/444-Project\\model\\vgg16_shallow_network\\model_vgg_deep-03-0.97.keras\n",
      "141/141 [==============================] - 6871s 49s/step - loss: 0.2025 - accuracy: 0.9423 - val_loss: 0.0917 - val_accuracy: 0.9728\n",
      "Epoch 4/20\n",
      "141/141 [==============================] - ETA: 0s - loss: 0.1070 - accuracy: 0.9702 \n",
      "Epoch 4: val_accuracy improved from 0.97277 to 0.97992, saving model to C:/Users/amaan/Desktop/444-Project\\model\\vgg16_shallow_network\\model_vgg_deep-04-0.98.keras\n",
      "141/141 [==============================] - 6899s 49s/step - loss: 0.1070 - accuracy: 0.9702 - val_loss: 0.0747 - val_accuracy: 0.9799\n",
      "Epoch 5/20\n",
      "141/141 [==============================] - ETA: 0s - loss: 0.0734 - accuracy: 0.9788 \n",
      "Epoch 5: val_accuracy improved from 0.97992 to 0.98639, saving model to C:/Users/amaan/Desktop/444-Project\\model\\vgg16_shallow_network\\model_vgg_deep-05-0.99.keras\n",
      "141/141 [==============================] - 6957s 49s/step - loss: 0.0734 - accuracy: 0.9788 - val_loss: 0.0445 - val_accuracy: 0.9864\n",
      "Epoch 6/20\n",
      "141/141 [==============================] - ETA: 0s - loss: 0.0546 - accuracy: 0.9838 \n",
      "Epoch 6: val_accuracy improved from 0.98639 to 0.99152, saving model to C:/Users/amaan/Desktop/444-Project\\model\\vgg16_shallow_network\\model_vgg_deep-06-0.99.keras\n",
      "141/141 [==============================] - 6881s 49s/step - loss: 0.0546 - accuracy: 0.9838 - val_loss: 0.0298 - val_accuracy: 0.9915\n",
      "Epoch 7/20\n",
      "141/141 [==============================] - ETA: 0s - loss: 0.0501 - accuracy: 0.9855 \n",
      "Epoch 7: val_accuracy did not improve from 0.99152\n",
      "141/141 [==============================] - 6867s 49s/step - loss: 0.0501 - accuracy: 0.9855 - val_loss: 0.0320 - val_accuracy: 0.9911\n",
      "Epoch 8/20\n",
      "141/141 [==============================] - ETA: 0s - loss: 0.0312 - accuracy: 0.9899 \n",
      "Epoch 8: val_accuracy did not improve from 0.99152\n",
      "141/141 [==============================] - 6804s 48s/step - loss: 0.0312 - accuracy: 0.9899 - val_loss: 0.0343 - val_accuracy: 0.9906\n",
      "Epoch 9/20\n",
      "141/141 [==============================] - ETA: 0s - loss: 0.0255 - accuracy: 0.9931 \n",
      "Epoch 9: val_accuracy improved from 0.99152 to 0.99353, saving model to C:/Users/amaan/Desktop/444-Project\\model\\vgg16_shallow_network\\model_vgg_deep-09-0.99.keras\n",
      "141/141 [==============================] - 6805s 48s/step - loss: 0.0255 - accuracy: 0.9931 - val_loss: 0.0258 - val_accuracy: 0.9935\n",
      "Epoch 10/20\n",
      "141/141 [==============================] - ETA: 0s - loss: 0.0191 - accuracy: 0.9943 \n",
      "Epoch 10: val_accuracy did not improve from 0.99353\n",
      "141/141 [==============================] - 7019s 50s/step - loss: 0.0191 - accuracy: 0.9943 - val_loss: 0.0371 - val_accuracy: 0.9893\n",
      "Epoch 11/20\n",
      "141/141 [==============================] - ETA: 0s - loss: 0.0230 - accuracy: 0.9929 \n",
      "Epoch 11: val_accuracy did not improve from 0.99353\n",
      "141/141 [==============================] - 6925s 49s/step - loss: 0.0230 - accuracy: 0.9929 - val_loss: 0.0239 - val_accuracy: 0.9931\n",
      "Epoch 12/20\n",
      "141/141 [==============================] - ETA: 0s - loss: 0.0230 - accuracy: 0.9929 \n",
      "Epoch 12: val_accuracy did not improve from 0.99353\n",
      "141/141 [==============================] - 6855s 49s/step - loss: 0.0230 - accuracy: 0.9929 - val_loss: 0.0267 - val_accuracy: 0.9922\n",
      "Epoch 13/20\n",
      "141/141 [==============================] - ETA: 0s - loss: 0.0210 - accuracy: 0.9934 \n",
      "Epoch 13: val_accuracy did not improve from 0.99353\n",
      "141/141 [==============================] - 6976s 49s/step - loss: 0.0210 - accuracy: 0.9934 - val_loss: 0.0302 - val_accuracy: 0.9909\n",
      "Epoch 14/20\n",
      "141/141 [==============================] - ETA: 0s - loss: 0.0245 - accuracy: 0.9927 \n",
      "Epoch 14: val_accuracy improved from 0.99353 to 0.99375, saving model to C:/Users/amaan/Desktop/444-Project\\model\\vgg16_shallow_network\\model_vgg_deep-14-0.99.keras\n",
      "141/141 [==============================] - 6858s 49s/step - loss: 0.0245 - accuracy: 0.9927 - val_loss: 0.0206 - val_accuracy: 0.9938\n",
      "Epoch 15/20\n",
      "141/141 [==============================] - ETA: 0s - loss: 0.0326 - accuracy: 0.9904 \n",
      "Epoch 15: val_accuracy did not improve from 0.99375\n",
      "141/141 [==============================] - 6791s 48s/step - loss: 0.0326 - accuracy: 0.9904 - val_loss: 0.0420 - val_accuracy: 0.9884\n",
      "Epoch 16/20\n",
      "141/141 [==============================] - ETA: 0s - loss: 0.0195 - accuracy: 0.9944 \n",
      "Epoch 16: val_accuracy did not improve from 0.99375\n",
      "141/141 [==============================] - 6853s 49s/step - loss: 0.0195 - accuracy: 0.9944 - val_loss: 0.0246 - val_accuracy: 0.9922\n",
      "Epoch 17/20\n",
      "141/141 [==============================] - ETA: 0s - loss: 0.0099 - accuracy: 0.9969 \n",
      "Epoch 17: val_accuracy did not improve from 0.99375\n",
      "141/141 [==============================] - 6867s 49s/step - loss: 0.0099 - accuracy: 0.9969 - val_loss: 0.0244 - val_accuracy: 0.9938\n",
      "Epoch 18/20\n",
      "141/141 [==============================] - ETA: 0s - loss: 0.0165 - accuracy: 0.9950 \n",
      "Epoch 18: val_accuracy did not improve from 0.99375\n",
      "141/141 [==============================] - 6818s 48s/step - loss: 0.0165 - accuracy: 0.9950 - val_loss: 0.0368 - val_accuracy: 0.9900\n",
      "Epoch 19/20\n",
      "141/141 [==============================] - ETA: 0s - loss: 0.0153 - accuracy: 0.9952 \n",
      "Epoch 19: val_accuracy improved from 0.99375 to 0.99487, saving model to C:/Users/amaan/Desktop/444-Project\\model\\vgg16_shallow_network\\model_vgg_deep-19-0.99.keras\n",
      "141/141 [==============================] - 6825s 48s/step - loss: 0.0153 - accuracy: 0.9952 - val_loss: 0.0233 - val_accuracy: 0.9949\n",
      "Epoch 19: early stopping\n"
     ]
    }
   ],
   "source": [
    "# Start training\n",
    "history = model.fit(train_data,\n",
    "                    epochs=20,  \n",
    "                    validation_data=test_data,\n",
    "                    callbacks=[checkpoint_callback, early_stopping_callback])\n",
    "\n",
    "# Save the model\n",
    "model.save(os.path.join(model_dir, 'final_model_deep_net_batchwise.h5'))"
   ]
  },
  {
   "cell_type": "markdown",
   "metadata": {},
   "source": [
    "## Data Visualization of Metrics"
   ]
  },
  {
   "cell_type": "code",
   "execution_count": 14,
   "metadata": {
    "id": "9VmpbuuRMYyN"
   },
   "outputs": [],
   "source": [
    "def plot_training_history(history):\n",
    "    acc = history.history['accuracy']\n",
    "    val_acc = history.history['val_accuracy']\n",
    "    loss = history.history['loss']\n",
    "    val_loss = history.history['val_loss']\n",
    "    epochs_range = range(len(acc))\n",
    "\n",
    "    plt.figure(figsize=(12, 6))\n",
    "    plt.subplot(1, 2, 1)\n",
    "    plt.plot(epochs_range, acc, label='Training Accuracy')\n",
    "    plt.plot(epochs_range, val_acc, label='Validation Accuracy')\n",
    "    plt.legend(loc='lower right')\n",
    "    plt.title('Training and Validation Accuracy')\n",
    "\n",
    "    plt.subplot(1, 2, 2)\n",
    "    plt.plot(epochs_range, loss, label='Training Loss')\n",
    "    plt.plot(epochs_range, val_loss, label='Validation Loss')\n",
    "    plt.legend(loc='upper right')\n",
    "    plt.title('Training and Validation Loss')\n",
    "    plt.show()"
   ]
  },
  {
   "cell_type": "code",
   "execution_count": 15,
   "metadata": {
    "id": "GRTzMpgpMa26"
   },
   "outputs": [
    {
     "data": {
      "image/png": "[encoded data removed]",
      "text/plain": [
       "<Figure size 1200x600 with 2 Axes>"
      ]
     },
     "metadata": {},
     "output_type": "display_data"
    }
   ],
   "source": [
    "plot_training_history(history)"
   ]
  },
  {
   "cell_type": "code",
   "execution_count": 18,
   "metadata": {
    "id": "vwMj7A0xMCyP"
   },
   "outputs": [
    {
     "name": "stdout",
     "output_type": "stream",
     "text": [
      "36/36 [==============================] - 362s 10s/step - loss: 0.0252 - accuracy: 0.9933\n",
      "Test accuracy: 99.33%, Test loss: 0.03\n"
     ]
    }
   ],
   "source": [
    "# Evaluate the model on the test set\n",
    "test_loss, test_accuracy = model.evaluate(test_data)\n",
    "print(f\"Test accuracy: {test_accuracy*100:.2f}%, Test loss: {test_loss:.2f}\")"
   ]
  }
 ],
 "metadata": {
  "accelerator": "GPU",
  "colab": {
   "gpuType": "V100",
   "machine_shape": "hm",
   "provenance": []
  },
  "kernelspec": {
   "display_name": "Python 3 (ipykernel)",
   "language": "python",
   "name": "python3"
  },
  "language_info": {
   "codemirror_mode": {
    "name": "ipython",
    "version": 3
   },
   "file_extension": ".py",
   "mimetype": "text/x-python",
   "name": "python",
   "nbconvert_exporter": "python",
   "pygments_lexer": "ipython3",
   "version": "3.9.18"
  }
 },
 "nbformat": 4,
 "nbformat_minor": 4
}
